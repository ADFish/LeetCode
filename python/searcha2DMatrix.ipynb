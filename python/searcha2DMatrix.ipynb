{
 "cells": [
  {
   "cell_type": "code",
   "execution_count": 13,
   "metadata": {},
   "outputs": [],
   "source": [
    "from typing import List\n",
    "\n",
    "class Solution:\n",
    "    def searchMatrix(self, matrix: List[List[int]], target: int) -> bool:\n",
    "        if len(matrix) == 0:\n",
    "            return False\n",
    "        if len(matrix[0]) == 0:\n",
    "            return False\n",
    "        \n",
    "        row = len(matrix) \n",
    "        col = len(matrix[0]) \n",
    "        \n",
    "        start = 0\n",
    "        end = row * col - 1\n",
    "        \n",
    "        while start + 1 < end:\n",
    "            mid = int(start + (end - start) / 2)\n",
    "            r = int(mid / col)\n",
    "            c = int(mid % col)\n",
    "            if matrix[r][c] == target:\n",
    "                return True\n",
    "            if matrix[r][c] < target:\n",
    "                start = mid\n",
    "            if matrix[r][c] > target:\n",
    "                end = mid\n",
    "                \n",
    "        r = int(start / col)\n",
    "        c = int(start % col)\n",
    "        if (matrix[r][c] == target):\n",
    "            return True\n",
    "        \n",
    "        r = int(end / col)\n",
    "        c = int(end % col)\n",
    "        if (matrix[r][c] == target):\n",
    "            return True\n",
    "        \n",
    "        return False\n",
    "        \n",
    "        \n",
    "        \n",
    "            "
   ]
  },
  {
   "cell_type": "code",
   "execution_count": 15,
   "metadata": {},
   "outputs": [
    {
     "data": {
      "text/plain": [
       "False"
      ]
     },
     "execution_count": 15,
     "metadata": {},
     "output_type": "execute_result"
    }
   ],
   "source": [
    "a = [\n",
    "  [1,   3,  5,  7],\n",
    "  [10, 11, 16, 20],\n",
    "  [23, 30, 34, 50]\n",
    "]\n",
    "\n",
    "target = 13\n",
    "\n",
    "s = Solution()\n",
    "s.searchMatrix(a, target)\n",
    "\n"
   ]
  }
 ],
 "metadata": {
  "kernelspec": {
   "display_name": "Python 3",
   "language": "python",
   "name": "python3"
  },
  "language_info": {
   "codemirror_mode": {
    "name": "ipython",
    "version": 3
   },
   "file_extension": ".py",
   "mimetype": "text/x-python",
   "name": "python",
   "nbconvert_exporter": "python",
   "pygments_lexer": "ipython3",
   "version": "3.6.6"
  }
 },
 "nbformat": 4,
 "nbformat_minor": 2
}
