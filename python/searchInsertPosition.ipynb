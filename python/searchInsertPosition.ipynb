{
 "cells": [
  {
   "cell_type": "code",
   "execution_count": 4,
   "metadata": {},
   "outputs": [],
   "source": [
    "from typing import List\n",
    "\n",
    "class Solution:\n",
    "    def searchInsert(self, nums: List[int], target: int) -> int:\n",
    "        if len(nums) == 0:\n",
    "            return 0\n",
    "        if target < nums[0]:\n",
    "            return 0\n",
    "        if target > nums[len(nums) - 1]:\n",
    "            return len(nums)\n",
    "        \n",
    "        start = 0\n",
    "        end = len(nums)\n",
    "        \n",
    "        while start + 1 < end:\n",
    "            mid = int(start + (end - start) /2)\n",
    "            if nums[mid] == target:\n",
    "                return mid\n",
    "            if nums[mid] < target:\n",
    "                start = mid\n",
    "            if nums[mid] > target:\n",
    "                end = mid\n",
    "                \n",
    "        if nums[start] == target:\n",
    "            return start\n",
    "        if nums[end] == target:\n",
    "            return end\n",
    "        return end"
   ]
  },
  {
   "cell_type": "code",
   "execution_count": 8,
   "metadata": {},
   "outputs": [
    {
     "data": {
      "text/plain": [
       "0"
      ]
     },
     "execution_count": 8,
     "metadata": {},
     "output_type": "execute_result"
    }
   ],
   "source": [
    "a = [1,3,5,6]\n",
    "t = 0\n",
    "s = Solution()\n",
    "s.searchInsert(a,t)"
   ]
  },
  {
   "cell_type": "code",
   "execution_count": null,
   "metadata": {},
   "outputs": [],
   "source": []
  }
 ],
 "metadata": {
  "kernelspec": {
   "display_name": "Python 3",
   "language": "python",
   "name": "python3"
  },
  "language_info": {
   "codemirror_mode": {
    "name": "ipython",
    "version": 3
   },
   "file_extension": ".py",
   "mimetype": "text/x-python",
   "name": "python",
   "nbconvert_exporter": "python",
   "pygments_lexer": "ipython3",
   "version": "3.6.6"
  }
 },
 "nbformat": 4,
 "nbformat_minor": 2
}
